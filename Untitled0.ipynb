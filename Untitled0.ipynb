{
  "nbformat": 4,
  "nbformat_minor": 0,
  "metadata": {
    "colab": {
      "name": "Untitled0.ipynb",
      "provenance": [],
      "collapsed_sections": [],
      "authorship_tag": "ABX9TyOy3BOTog9cJrrZ0iaU1KGO",
      "include_colab_link": true
    },
    "kernelspec": {
      "name": "python3",
      "display_name": "Python 3"
    },
    "language_info": {
      "name": "python"
    }
  },
  "cells": [
    {
      "cell_type": "markdown",
      "metadata": {
        "id": "view-in-github",
        "colab_type": "text"
      },
      "source": [
        "<a href=\"https://colab.research.google.com/github/Azimira/task/blob/master/Untitled0.ipynb\" target=\"_parent\"><img src=\"https://colab.research.google.com/assets/colab-badge.svg\" alt=\"Open In Colab\"/></a>"
      ]
    },
    {
      "cell_type": "code",
      "metadata": {
        "colab": {
          "base_uri": "https://localhost:8080/"
        },
        "id": "5zECi10ID0BM",
        "outputId": "6a302312-645e-43f3-edf6-017d28f96a8d"
      },
      "source": [
        "print(\"Hello World\")\n",
        "print(10)\n",
        "print(24)"
      ],
      "execution_count": 4,
      "outputs": [
        {
          "output_type": "stream",
          "text": [
            "Hello World\n",
            "10\n",
            "24\n"
          ],
          "name": "stdout"
        }
      ]
    },
    {
      "cell_type": "code",
      "metadata": {
        "colab": {
          "base_uri": "https://localhost:8080/"
        },
        "id": "zSi6dEJZGOjS",
        "outputId": "3676748a-9f29-437e-c536-e178eafef8dc"
      },
      "source": [
        "# Default Parameters Of Print Function\n",
        "# functionName?\n",
        "# help(functionName)\n",
        "# print?\n",
        "\n",
        "print('Firts Line',end='\\t')    #\\n --> Newline  #\\t --> tabSpace\n",
        "print('Second LIne')"
      ],
      "execution_count": 12,
      "outputs": [
        {
          "output_type": "stream",
          "text": [
            "Firts Line\tSecond LIne\n"
          ],
          "name": "stdout"
        }
      ]
    },
    {
      "cell_type": "code",
      "metadata": {
        "colab": {
          "base_uri": "https://localhost:8080/"
        },
        "id": "rFMYIprZJ8kS",
        "outputId": "feb55a18-d16b-4c01-d573-f77b550cb630"
      },
      "source": [
        "print('FirstValue','SecondValue','ThirdValue',sep=' & ')"
      ],
      "execution_count": 15,
      "outputs": [
        {
          "output_type": "stream",
          "text": [
            "FirstValue & SecondValue & ThirdValue\n"
          ],
          "name": "stdout"
        }
      ]
    },
    {
      "cell_type": "code",
      "metadata": {
        "colab": {
          "base_uri": "https://localhost:8080/"
        },
        "id": "Fg4h1jKiLd3C",
        "outputId": "50ad7c05-75f6-44e8-ee6f-d049340744cc"
      },
      "source": [
        "# Phyton Numbers\n",
        "# Phyton as a calculator\n",
        "\n",
        "print(3+3)\n",
        "print(10-5)\n",
        "print(10*8)\n",
        "print(72/2) #In Phyton Division Operator Always Return In Float/Decimal\n",
        "# Floor Divison // Always Return Value In Integer\n",
        "print(72//2)\n",
        "# Exponential Operatos **\n",
        "print(2**10) # 2 to the power of 10\n",
        "print(78**78)\n",
        "# Modulo Operator % --> used to give reminder\n",
        "print(17%2)"
      ],
      "execution_count": 21,
      "outputs": [
        {
          "output_type": "stream",
          "text": [
            "6\n",
            "5\n",
            "80\n",
            "36.0\n",
            "36\n",
            "1024\n",
            "3831589812313461262138726500006414268147534037893115512325908939170687185145438579006950082195309705885134607990418665607337632973770507236843454464\n",
            "1\n"
          ],
          "name": "stdout"
        }
      ]
    },
    {
      "cell_type": "code",
      "metadata": {
        "colab": {
          "base_uri": "https://localhost:8080/"
        },
        "id": "GQfNCIHNQhOW",
        "outputId": "7841c202-2a78-45c8-bb57-6ddcce19cdd3"
      },
      "source": [
        "print('Phyton',end='\\t')\n",
        "print('Programming')\n",
        "print('Is','Easy', sep=' ---> ')"
      ],
      "execution_count": 23,
      "outputs": [
        {
          "output_type": "stream",
          "text": [
            "Phyton\tProgramming\n",
            "Is ---> Easy\n"
          ],
          "name": "stdout"
        }
      ]
    },
    {
      "cell_type": "code",
      "metadata": {
        "colab": {
          "base_uri": "https://localhost:8080/"
        },
        "id": "7NQlciaRSFex",
        "outputId": "7a402cca-0d4e-4942-fe10-adce31335286"
      },
      "source": [
        "# Variables and Data Types\n",
        "num1 = 10\n",
        "num2 = 20\n",
        "print(num1+num2)"
      ],
      "execution_count": 24,
      "outputs": [
        {
          "output_type": "stream",
          "text": [
            "30\n"
          ],
          "name": "stdout"
        }
      ]
    },
    {
      "cell_type": "code",
      "metadata": {
        "colab": {
          "base_uri": "https://localhost:8080/"
        },
        "id": "LnfPrdkhZN5Z",
        "outputId": "ad24abdd-19b5-4a17-fbd3-8c30ef2ea367"
      },
      "source": [
        "# Data Type In Phyton\n",
        "# Phyton Uses Dynamic Typing\n",
        "# 1.) in phyton you are not required to write the data type before declaring a\n",
        "#     variable\n",
        "# 2.) in phyton you can resigned variable to a different data types\n",
        "\n",
        "# int data type\n",
        "# used to hold integer value (both positive and negative integer)\n",
        "\n",
        "intValue = 10\n",
        "print(intValue)\n",
        "\n",
        "# type() --> used to check the DataType oF Variable\n",
        "print(type(intValue))\n",
        "\n",
        "# Float Data Type\n",
        "\n",
        "floatValue = 90.121\n",
        "print(type(floatValue))\n",
        "\n",
        "# string dataType\n",
        "\n",
        "strValue = 'PhytonProgramming'\n",
        "print(type(strValue),strValue)\n",
        "\n",
        "#boolean DataType --> True/False\n",
        "\n",
        "boolType = True\n",
        "print(type(boolType),boolType)"
      ],
      "execution_count": 31,
      "outputs": [
        {
          "output_type": "stream",
          "text": [
            "10\n",
            "<class 'int'>\n",
            "<class 'float'>\n",
            "<class 'str'> PhytonProgramming\n",
            "<class 'bool'> True\n"
          ],
          "name": "stdout"
        }
      ]
    }
  ]
}