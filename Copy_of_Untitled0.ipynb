{
  "nbformat": 4,
  "nbformat_minor": 0,
  "metadata": {
    "colab": {
      "name": "Copy of Untitled0.ipynb",
      "provenance": [],
      "authorship_tag": "ABX9TyOZiNtJmYC+qtDyxTHaqtqE",
      "include_colab_link": true
    },
    "kernelspec": {
      "name": "python3",
      "display_name": "Python 3"
    },
    "language_info": {
      "name": "python"
    }
  },
  "cells": [
    {
      "cell_type": "markdown",
      "metadata": {
        "id": "view-in-github",
        "colab_type": "text"
      },
      "source": [
        "<a href=\"https://colab.research.google.com/github/Azimira/task/blob/master/Copy_of_Untitled0.ipynb\" target=\"_parent\"><img src=\"https://colab.research.google.com/assets/colab-badge.svg\" alt=\"Open In Colab\"/></a>"
      ]
    },
    {
      "cell_type": "code",
      "metadata": {
        "colab": {
          "base_uri": "https://localhost:8080/"
        },
        "id": "5zECi10ID0BM",
        "outputId": "6a302312-645e-43f3-edf6-017d28f96a8d"
      },
      "source": [
        "print(\"Hello World\")\n",
        "print(10)\n",
        "print(24)"
      ],
      "execution_count": null,
      "outputs": [
        {
          "output_type": "stream",
          "text": [
            "Hello World\n",
            "10\n",
            "24\n"
          ],
          "name": "stdout"
        }
      ]
    },
    {
      "cell_type": "code",
      "metadata": {
        "id": "r942gNAI3_0m"
      },
      "source": [
        ""
      ],
      "execution_count": null,
      "outputs": []
    },
    {
      "cell_type": "code",
      "metadata": {
        "colab": {
          "base_uri": "https://localhost:8080/"
        },
        "id": "zSi6dEJZGOjS",
        "outputId": "3676748a-9f29-437e-c536-e178eafef8dc"
      },
      "source": [
        "# Default Parameters Of Print Function\n",
        "# functionName?\n",
        "# help(functionName)\n",
        "# print?\n",
        "\n",
        "print('Firts Line',end='\\t')    #\\n --> Newline  #\\t --> tabSpace\n",
        "print('Second LIne')"
      ],
      "execution_count": null,
      "outputs": [
        {
          "output_type": "stream",
          "text": [
            "Firts Line\tSecond LIne\n"
          ],
          "name": "stdout"
        }
      ]
    },
    {
      "cell_type": "code",
      "metadata": {
        "colab": {
          "base_uri": "https://localhost:8080/"
        },
        "id": "rFMYIprZJ8kS",
        "outputId": "feb55a18-d16b-4c01-d573-f77b550cb630"
      },
      "source": [
        "print('FirstValue','SecondValue','ThirdValue',sep=' & ')"
      ],
      "execution_count": null,
      "outputs": [
        {
          "output_type": "stream",
          "text": [
            "FirstValue & SecondValue & ThirdValue\n"
          ],
          "name": "stdout"
        }
      ]
    },
    {
      "cell_type": "code",
      "metadata": {
        "colab": {
          "base_uri": "https://localhost:8080/"
        },
        "id": "Fg4h1jKiLd3C",
        "outputId": "50ad7c05-75f6-44e8-ee6f-d049340744cc"
      },
      "source": [
        "# Phyton Numbers\n",
        "# Phyton as a calculator\n",
        "\n",
        "print(3+3)\n",
        "print(10-5)\n",
        "print(10*8)\n",
        "print(72/2) #In Phyton Division Operator Always Return In Float/Decimal\n",
        "# Floor Divison // Always Return Value In Integer\n",
        "print(72//2)\n",
        "# Exponential Operatos **\n",
        "print(2**10) # 2 to the power of 10\n",
        "print(78**78)\n",
        "# Modulo Operator % --> used to give reminder\n",
        "print(17%2)"
      ],
      "execution_count": null,
      "outputs": [
        {
          "output_type": "stream",
          "text": [
            "6\n",
            "5\n",
            "80\n",
            "36.0\n",
            "36\n",
            "1024\n",
            "3831589812313461262138726500006414268147534037893115512325908939170687185145438579006950082195309705885134607990418665607337632973770507236843454464\n",
            "1\n"
          ],
          "name": "stdout"
        }
      ]
    },
    {
      "cell_type": "code",
      "metadata": {
        "colab": {
          "base_uri": "https://localhost:8080/"
        },
        "id": "GQfNCIHNQhOW",
        "outputId": "7841c202-2a78-45c8-bb57-6ddcce19cdd3"
      },
      "source": [
        "print('Phyton',end='\\t')\n",
        "print('Programming')\n",
        "print('Is','Easy', sep=' ---> ')"
      ],
      "execution_count": null,
      "outputs": [
        {
          "output_type": "stream",
          "text": [
            "Phyton\tProgramming\n",
            "Is ---> Easy\n"
          ],
          "name": "stdout"
        }
      ]
    },
    {
      "cell_type": "code",
      "metadata": {
        "colab": {
          "base_uri": "https://localhost:8080/"
        },
        "id": "7NQlciaRSFex",
        "outputId": "7a402cca-0d4e-4942-fe10-adce31335286"
      },
      "source": [
        "# Variables and Data Types\n",
        "num1 = 10\n",
        "num2 = 20\n",
        "print(num1+num2)"
      ],
      "execution_count": null,
      "outputs": [
        {
          "output_type": "stream",
          "text": [
            "30\n"
          ],
          "name": "stdout"
        }
      ]
    },
    {
      "cell_type": "code",
      "metadata": {
        "colab": {
          "base_uri": "https://localhost:8080/"
        },
        "id": "LnfPrdkhZN5Z",
        "outputId": "0bd6e38a-3228-430e-d044-ccc92d5cbb64"
      },
      "source": [
        "# Data Type In Phyton\n",
        "# Phyton Uses Dynamic Typing\n",
        "# 1.) in phyton you are not required to write the data type before declaring a\n",
        "#     variable\n",
        "# 2.) in phyton you can resigned variable to a different data types\n",
        "\n",
        "# int data type\n",
        "# used to hold integer value (both positive and negative integer)\n",
        "\n",
        "intValue = 10\n",
        "print(intValue)\n",
        "\n",
        "# type() --> used to check the DataType oF Variable\n",
        "print(type(intValue))\n",
        "\n",
        "# Float Data Type\n",
        "\n",
        "floatValue = 90.121\n",
        "print(type(floatValue))\n",
        "\n",
        "# string dataType\n",
        "\n",
        "strValue = 'PythonProgramming'\n",
        "print(type(strValue),strValue)\n",
        "\n",
        "#boolean DataType --> True/False\n",
        "\n",
        "boolType = True\n",
        "print(type(boolType),boolType)"
      ],
      "execution_count": 10,
      "outputs": [
        {
          "output_type": "stream",
          "text": [
            "10\n",
            "<class 'int'>\n",
            "<class 'float'>\n",
            "<class 'str'> PythonProgramming\n",
            "<class 'bool'> True\n"
          ],
          "name": "stdout"
        }
      ]
    },
    {
      "cell_type": "code",
      "metadata": {
        "colab": {
          "base_uri": "https://localhost:8080/"
        },
        "id": "qLKDIXtP4Ocd",
        "outputId": "4ddf8489-02e8-4b82-a564-3b91fbfd97f3"
      },
      "source": [
        "# STRINGS In Phyton\n",
        "# sequence of characters\n",
        "\n",
        "\n",
        "str1 = \"String\"\n",
        "str2 = 'String'\n",
        "print(type(str1), type(str2))\n"
      ],
      "execution_count": 1,
      "outputs": [
        {
          "output_type": "stream",
          "text": [
            "<class 'str'> <class 'str'>\n"
          ],
          "name": "stdout"
        }
      ]
    },
    {
      "cell_type": "code",
      "metadata": {
        "colab": {
          "base_uri": "https://localhost:8080/"
        },
        "id": "1-tJQNc16QO2",
        "outputId": "1abafe84-9367-4565-b4a3-a9b3a9f095d5"
      },
      "source": [
        "course = 'PythonProgramming'\n",
        "# P  y  t  h o  n  P  r  o  g  r  a  m  m  i  n  g\n",
        "# 0  1  2  3  4  5  6  7  8  9  10 11 12 13 14 15 16 \n",
        "\n",
        "# indexing --> indexing allows you to grab a single character from a string\n",
        "# indexing uses [] notation\n",
        "\n",
        "print(course[2])\n",
        "print(course[15])\n",
        "print(course[6:13])\n",
        "print(course[0:6])\n",
        "print(course[:12])\n",
        "print(course[7:])\n",
        "print(course[13:])\n",
        "# stepCount\n",
        "print(course[1:13])\n",
        "print(course[1:13:2])\n",
        "# negative indexing\n",
        "print(course[:-4])\n"
      ],
      "execution_count": 18,
      "outputs": [
        {
          "output_type": "stream",
          "text": [
            "t\n",
            "n\n",
            "Program\n",
            "Python\n",
            "PythonProgra\n",
            "rogramming\n",
            "ming\n",
            "ythonProgram\n",
            "yhnrga\n",
            "PythonProgram\n"
          ],
          "name": "stdout"
        }
      ]
    },
    {
      "cell_type": "code",
      "metadata": {
        "colab": {
          "base_uri": "https://localhost:8080/"
        },
        "id": "yc3UEF8aK4ae",
        "outputId": "bdc00aef-0841-4422-be11-274a3d51b6ae"
      },
      "source": [
        "# Python Assignment Operator\n",
        "x = 10\n",
        "print(x)\n",
        "\n",
        "a = 100\n",
        "a += 10   # a = a + 10\n",
        "print(a)"
      ],
      "execution_count": 14,
      "outputs": [
        {
          "output_type": "stream",
          "text": [
            "10\n",
            "110\n"
          ],
          "name": "stdout"
        }
      ]
    },
    {
      "cell_type": "code",
      "metadata": {
        "colab": {
          "base_uri": "https://localhost:8080/"
        },
        "id": "D2Ne8nINOK9z",
        "outputId": "a4b8adc8-dcfc-4e7e-b875-ffeafce4c3c8"
      },
      "source": [
        "# Python Comparison Operator == < > !=  <= >=\n",
        "x = 12\n",
        "y = 10\n",
        "print(x==y)\n",
        "print(x<y)\n",
        "print(x>y)\n",
        "print(x!=y)\n",
        "\n"
      ],
      "execution_count": 19,
      "outputs": [
        {
          "output_type": "stream",
          "text": [
            "False\n",
            "False\n",
            "True\n",
            "True\n"
          ],
          "name": "stdout"
        }
      ]
    },
    {
      "cell_type": "code",
      "metadata": {
        "colab": {
          "base_uri": "https://localhost:8080/"
        },
        "id": "zBk6HhJ7QBje",
        "outputId": "2904cc57-6260-40ce-9014-3d2beb66fcf3"
      },
      "source": [
        "age = 20\n",
        "print('Eligible For Driving:', age>=20)"
      ],
      "execution_count": 20,
      "outputs": [
        {
          "output_type": "stream",
          "text": [
            "Eligible For Driving: True\n"
          ],
          "name": "stdout"
        }
      ]
    },
    {
      "cell_type": "code",
      "metadata": {
        "colab": {
          "base_uri": "https://localhost:8080/"
        },
        "id": "RMwu_fyjQpCA",
        "outputId": "547ae4a1-d56b-46fc-d494-e0cf356f8aaf"
      },
      "source": [
        "# Python Logical Operators ----> AND OR NOT\n",
        "# AND\n",
        "# Return TRUE when both the conditions will be true\n",
        "\n",
        "a = 100\n",
        "b = 200\n",
        "print(a==100 and b==200)\n",
        "print(a==1000 and b==200)\n"
      ],
      "execution_count": 23,
      "outputs": [
        {
          "output_type": "stream",
          "text": [
            "True\n",
            "False\n"
          ],
          "name": "stdout"
        }
      ]
    },
    {
      "cell_type": "code",
      "metadata": {
        "colab": {
          "base_uri": "https://localhost:8080/"
        },
        "id": "EVJSCINQT2TG",
        "outputId": "0e02689a-594d-4774-fddc-1081b298d4df"
      },
      "source": [
        "# OR\n",
        "# Resturn TRUE when any of condition is true\n",
        "a = 100\n",
        "b = 200\n",
        "print(a==100 or b==200)\n",
        "print(a==1000 or b==200)"
      ],
      "execution_count": 24,
      "outputs": [
        {
          "output_type": "stream",
          "text": [
            "True\n",
            "True\n"
          ],
          "name": "stdout"
        }
      ]
    },
    {
      "cell_type": "code",
      "metadata": {
        "colab": {
          "base_uri": "https://localhost:8080/"
        },
        "id": "VExzfVprVFAJ",
        "outputId": "c767ec59-d57a-45f8-a983-cecc7a3c1684"
      },
      "source": [
        "# NOT\n",
        "x = 10\n",
        "y = 20\n",
        "print(not(x==10 and y>=20)) \n",
        "print(not(x==10 and y==20))\n",
        "print(not(x==20 and y==10))"
      ],
      "execution_count": 28,
      "outputs": [
        {
          "output_type": "stream",
          "text": [
            "False\n",
            "False\n",
            "True\n"
          ],
          "name": "stdout"
        }
      ]
    },
    {
      "cell_type": "code",
      "metadata": {
        "colab": {
          "base_uri": "https://localhost:8080/"
        },
        "id": "d1OwNZk5WFZf",
        "outputId": "717c4a5d-687f-4d16-93b9-8ee984256c3e"
      },
      "source": [
        "# Membership Operator\n",
        "# in   not in\n",
        "\n",
        "# in --> return true when specified value exist in the sequence\n",
        "\n",
        "strValue = 'Python Is Easy'\n",
        "print('Easy' in strValue)\n",
        "print('Difficult' in strValue)\n",
        "\n",
        "# not in Operator\n",
        "print('Difficult' not in strValue)"
      ],
      "execution_count": 29,
      "outputs": [
        {
          "output_type": "stream",
          "text": [
            "True\n",
            "False\n",
            "True\n"
          ],
          "name": "stdout"
        }
      ]
    }
  ]
}